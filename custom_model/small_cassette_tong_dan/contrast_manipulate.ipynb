{
 "cells": [
  {
   "cell_type": "code",
   "execution_count": null,
   "metadata": {},
   "outputs": [],
   "source": [
    "from PIL import Image, ImageEnhance\n",
    "import os\n",
    "\n",
    "# Function to adjust contrast and save images\n",
    "def process_images(input_directory):\n",
    "    # Ensure output directory exists\n",
    "    output_directory = input_directory\n",
    "    os.makedirs(output_directory, exist_ok=True)\n",
    "    \n",
    "    # Process all images in the directory\n",
    "    for file in os.listdir(input_directory):\n",
    "        if file.lower().endswith(('.jpg', '.png', '.jpeg')):\n",
    "            image_path = os.path.join(input_directory, file)\n",
    "            image = Image.open(image_path)\n",
    "            base_name, ext = os.path.splitext(file)\n",
    "            \n",
    "            # Contrast boosted\n",
    "            boosted = ImageEnhance.Contrast(image).enhance(4)\n",
    "            boosted_path = os.path.join(output_directory, f\"{base_name}_boosted{ext}\")\n",
    "            boosted.save(boosted_path)\n",
    "            \n",
    "            # Contrast deboosted\n",
    "            deboosted = ImageEnhance.Contrast(image).enhance(0.25)\n",
    "            deboosted_path = os.path.join(output_directory, f\"{base_name}_deboosted{ext}\")\n",
    "            deboosted.save(deboosted_path)\n",
    "            \n",
    "            print(f\"Processed: {file}\")\n",
    "\n",
    "# Run the function\n",
    "input_image_directory_1 = \"images_cassette_tong_dan/train\"  # Replace with your actual image directory\n",
    "input_image_directory_2 = \"images_cassette_tong_dan/val\"  # Replace with your actual image directory\n",
    "process_images(input_image_directory_1)\n",
    "process_images(input_image_directory_2)\n"
   ]
  },
  {
   "cell_type": "code",
   "execution_count": null,
   "metadata": {},
   "outputs": [],
   "source": [
    "import os\n",
    "\n",
    "# Function to duplicate text files\n",
    "def duplicate_text_files(input_directory):\n",
    "    # Ensure output directory exists\n",
    "    output_directory = input_directory\n",
    "    os.makedirs(output_directory, exist_ok=True)\n",
    "    \n",
    "    # Process all text files in the directory\n",
    "    for file in os.listdir(input_directory):\n",
    "        if file.lower().endswith('.txt'):\n",
    "            file_path = os.path.join(input_directory, file)\n",
    "            base_name, ext = os.path.splitext(file)\n",
    "            \n",
    "            # Read original content\n",
    "            with open(file_path, 'r', encoding='utf-8') as f:\n",
    "                content = f.read()\n",
    "            \n",
    "            # Create boosted file\n",
    "            boosted_path = os.path.join(output_directory, f\"{base_name}_boosted{ext}\")\n",
    "            with open(boosted_path, 'w', encoding='utf-8') as f:\n",
    "                f.write(content)\n",
    "            \n",
    "            # Create deboosted file\n",
    "            deboosted_path = os.path.join(output_directory, f\"{base_name}_deboosted{ext}\")\n",
    "            with open(deboosted_path, 'w', encoding='utf-8') as f:\n",
    "                f.write(content)\n",
    "            \n",
    "            print(f\"Duplicated: {file}\")\n",
    "\n",
    "# Run the function\n",
    "input_label_directory_1 = \"labels_cassette_tong_dan/train\"  # Replace with your actual text file directory\n",
    "input_label_directory_2 = \"labels_cassette_tong_dan/val\"  # Replace with your actual text file directory\n",
    "duplicate_text_files(input_label_directory_1)\n",
    "duplicate_text_files(input_label_directory_2)\n"
   ]
  }
 ],
 "metadata": {
  "kernelspec": {
   "display_name": ".computervision",
   "language": "python",
   "name": "python3"
  },
  "language_info": {
   "codemirror_mode": {
    "name": "ipython",
    "version": 3
   },
   "file_extension": ".py",
   "mimetype": "text/x-python",
   "name": "python",
   "nbconvert_exporter": "python",
   "pygments_lexer": "ipython3",
   "version": "3.10.12"
  }
 },
 "nbformat": 4,
 "nbformat_minor": 2
}
